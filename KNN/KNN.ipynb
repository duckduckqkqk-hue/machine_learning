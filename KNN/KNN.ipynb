{
 "cells": [
  {
   "cell_type": "markdown",
   "id": "73ee0647",
   "metadata": {},
   "source": [
    "# KNN代码实现与数据分析案例\n",
    "## 代码实现"
   ]
  },
  {
   "cell_type": "markdown",
   "id": "9e570865",
   "metadata": {},
   "source": [
    "### 基本原理\n",
    "1. 构造一个n维空间，空间内每个向量X有对应的标签Y，输入一个预测点x，取在一种距离度量下（一般为p2范数），空间内距离x最近的k个点，再观察这几个点的标签值y，通过一个函数（常用的实际上就是找这n个标签里面最多的一个yi作为预测标签），确定这个预测点x的预测标签y\n",
    "2. 下面通过python写一遍算法，增强理解，再用scikit-learn库的KNeighborsClassifier实现\n",
    "3. 优化KNN，可以用KD树算法，快速搜索到最近的k个点"
   ]
  },
  {
   "cell_type": "code",
   "execution_count": 101,
   "id": "f5d623a8",
   "metadata": {},
   "outputs": [],
   "source": [
    "#距离的度量——范数（norm）\n",
    "import math\n",
    "\n",
    "def L(x,y,p=2):\n",
    "    if len(x) == len(y) and len(x):\n",
    "        sum = 0\n",
    "        for i in range(len(x)):\n",
    "            sum += math.pow(abs(x[i]-y[i]),p)\n",
    "        return math.pow(sum,1/p)\n",
    "    else:\n",
    "        return 0"
   ]
  },
  {
   "cell_type": "code",
   "execution_count": 4,
   "id": "88249617",
   "metadata": {},
   "outputs": [],
   "source": [
    "#导库\n",
    "\n",
    "import numpy as np\n",
    "import pandas as pd\n",
    "import matplotlib.pyplot as plt\n",
    "%matplotlib inline        \n",
    "from sklearn.datasets import load_iris\n",
    "from sklearn.model_selection import train_test_split\n",
    "from collections import Counter"
   ]
  },
  {
   "cell_type": "code",
   "execution_count": 2,
   "id": "cc525271",
   "metadata": {},
   "outputs": [
    {
     "data": {
      "text/html": [
       "<div>\n",
       "<style scoped>\n",
       "    .dataframe tbody tr th:only-of-type {\n",
       "        vertical-align: middle;\n",
       "    }\n",
       "\n",
       "    .dataframe tbody tr th {\n",
       "        vertical-align: top;\n",
       "    }\n",
       "\n",
       "    .dataframe thead th {\n",
       "        text-align: right;\n",
       "    }\n",
       "</style>\n",
       "<table border=\"1\" class=\"dataframe\">\n",
       "  <thead>\n",
       "    <tr style=\"text-align: right;\">\n",
       "      <th></th>\n",
       "      <th>sepal length</th>\n",
       "      <th>sepal width</th>\n",
       "      <th>petal length</th>\n",
       "      <th>petal width</th>\n",
       "      <th>label</th>\n",
       "    </tr>\n",
       "  </thead>\n",
       "  <tbody>\n",
       "    <tr>\n",
       "      <th>count</th>\n",
       "      <td>150.000000</td>\n",
       "      <td>150.000000</td>\n",
       "      <td>150.000000</td>\n",
       "      <td>150.000000</td>\n",
       "      <td>150.000000</td>\n",
       "    </tr>\n",
       "    <tr>\n",
       "      <th>mean</th>\n",
       "      <td>5.843333</td>\n",
       "      <td>3.057333</td>\n",
       "      <td>3.758000</td>\n",
       "      <td>1.199333</td>\n",
       "      <td>1.000000</td>\n",
       "    </tr>\n",
       "    <tr>\n",
       "      <th>std</th>\n",
       "      <td>0.828066</td>\n",
       "      <td>0.435866</td>\n",
       "      <td>1.765298</td>\n",
       "      <td>0.762238</td>\n",
       "      <td>0.819232</td>\n",
       "    </tr>\n",
       "    <tr>\n",
       "      <th>min</th>\n",
       "      <td>4.300000</td>\n",
       "      <td>2.000000</td>\n",
       "      <td>1.000000</td>\n",
       "      <td>0.100000</td>\n",
       "      <td>0.000000</td>\n",
       "    </tr>\n",
       "    <tr>\n",
       "      <th>25%</th>\n",
       "      <td>5.100000</td>\n",
       "      <td>2.800000</td>\n",
       "      <td>1.600000</td>\n",
       "      <td>0.300000</td>\n",
       "      <td>0.000000</td>\n",
       "    </tr>\n",
       "    <tr>\n",
       "      <th>50%</th>\n",
       "      <td>5.800000</td>\n",
       "      <td>3.000000</td>\n",
       "      <td>4.350000</td>\n",
       "      <td>1.300000</td>\n",
       "      <td>1.000000</td>\n",
       "    </tr>\n",
       "    <tr>\n",
       "      <th>75%</th>\n",
       "      <td>6.400000</td>\n",
       "      <td>3.300000</td>\n",
       "      <td>5.100000</td>\n",
       "      <td>1.800000</td>\n",
       "      <td>2.000000</td>\n",
       "    </tr>\n",
       "    <tr>\n",
       "      <th>max</th>\n",
       "      <td>7.900000</td>\n",
       "      <td>4.400000</td>\n",
       "      <td>6.900000</td>\n",
       "      <td>2.500000</td>\n",
       "      <td>2.000000</td>\n",
       "    </tr>\n",
       "  </tbody>\n",
       "</table>\n",
       "</div>"
      ],
      "text/plain": [
       "       sepal length  sepal width  petal length  petal width       label\n",
       "count    150.000000   150.000000    150.000000   150.000000  150.000000\n",
       "mean       5.843333     3.057333      3.758000     1.199333    1.000000\n",
       "std        0.828066     0.435866      1.765298     0.762238    0.819232\n",
       "min        4.300000     2.000000      1.000000     0.100000    0.000000\n",
       "25%        5.100000     2.800000      1.600000     0.300000    0.000000\n",
       "50%        5.800000     3.000000      4.350000     1.300000    1.000000\n",
       "75%        6.400000     3.300000      5.100000     1.800000    2.000000\n",
       "max        7.900000     4.400000      6.900000     2.500000    2.000000"
      ]
     },
     "execution_count": 2,
     "metadata": {},
     "output_type": "execute_result"
    }
   ],
   "source": [
    "#导入数据初步研究\n",
    "\n",
    "iris = load_iris()\n",
    "df = pd.DataFrame(iris.data , columns=iris.feature_names)\n",
    "df['label'] = iris.target\n",
    "df.columns = ['sepal length','sepal width','petal length','petal width','label']\n",
    "df.describe()\n"
   ]
  },
  {
   "cell_type": "markdown",
   "id": "baeb546f",
   "metadata": {},
   "source": [
    "### 简单取出二维的数据集，绘制散点图，直观感受"
   ]
  },
  {
   "cell_type": "code",
   "execution_count": 5,
   "id": "e9dec438",
   "metadata": {},
   "outputs": [
    {
     "data": {
      "text/plain": [
       "<matplotlib.legend.Legend at 0x1910be98910>"
      ]
     },
     "execution_count": 5,
     "metadata": {},
     "output_type": "execute_result"
    }
   ],
   "source": [
    "plt.scatter(df[:50]['sepal length'], df[:50]['sepal width'], label='0')\n",
    "plt.scatter(df[50:100]['sepal length'], df[50:100]['sepal width'], label='1')\n",
    "plt.scatter(df[100:150]['sepal length'],df[100:150]['sepal width'],label = '2')\n",
    "plt.xlabel('sepal length')\n",
    "plt.ylabel('sepal width')\n",
    "plt.legend()"
   ]
  },
  {
   "cell_type": "code",
   "execution_count": 105,
   "id": "f5c7d60e",
   "metadata": {},
   "outputs": [],
   "source": [
    "data = np.array(df)     \n",
    "X, y = data[:,:-1], data[:,-1]\n",
    "X_train, X_test, y_train, y_test = train_test_split(X, y, test_size=0.2)   #拆分测试集与训练集\n"
   ]
  },
  {
   "cell_type": "code",
   "execution_count": 106,
   "id": "aeba05ad",
   "metadata": {},
   "outputs": [],
   "source": [
    "class KNN:\n",
    "    def __init__(self, X_train, y_train, k=3, p=2):\n",
    "        self.k = k\n",
    "        self.p = p\n",
    "        self.X_train = X_train\n",
    "        self.y_train = y_train\n",
    "    def predict(self,x):\n",
    "        totl_ls = [(np.linalg.norm(x - self.X_train[i]),self.y_train[i]) for i in range(len(self.X_train))]\n",
    "        k_ls = sorted(totl_ls, key=lambda x: x[0])[:self.k]\n",
    "        labels = [k[-1] for k in k_ls]\n",
    "        counter = Counter(labels)\n",
    "        max_label = sorted(counter.items(), key=lambda x: x[1])[-1][0]\n",
    "        return max_label\n",
    "    \n",
    "    def score(self, X_test, y_test):\n",
    "        right_count = 0\n",
    "        for X, y in zip(X_test, y_test):\n",
    "            label = self.predict(X)\n",
    "            if label == y:\n",
    "                right_count += 1\n",
    "        return right_count / len(X_test)\n",
    "        "
   ]
  },
  {
   "cell_type": "markdown",
   "id": "a12e376e",
   "metadata": {},
   "source": [
    "### 用手搓KNN分类器预测"
   ]
  },
  {
   "cell_type": "code",
   "execution_count": 107,
   "id": "434bf622",
   "metadata": {},
   "outputs": [
    {
     "data": {
      "text/plain": [
       "[(1, 4, 0.9666666666666667),\n",
       " (1, 5, 0.9666666666666667),\n",
       " (1, 6, 1.0),\n",
       " (1, 7, 1.0),\n",
       " (1, 8, 1.0),\n",
       " (1, 9, 1.0),\n",
       " (2, 4, 0.9666666666666667),\n",
       " (2, 5, 0.9666666666666667),\n",
       " (2, 6, 1.0),\n",
       " (2, 7, 1.0),\n",
       " (2, 8, 1.0),\n",
       " (2, 9, 1.0),\n",
       " (3, 4, 0.9666666666666667),\n",
       " (3, 5, 0.9666666666666667),\n",
       " (3, 6, 1.0),\n",
       " (3, 7, 1.0),\n",
       " (3, 8, 1.0),\n",
       " (3, 9, 1.0),\n",
       " (4, 4, 0.9666666666666667),\n",
       " (4, 5, 0.9666666666666667),\n",
       " (4, 6, 1.0),\n",
       " (4, 7, 1.0),\n",
       " (4, 8, 1.0),\n",
       " (4, 9, 1.0)]"
      ]
     },
     "execution_count": 107,
     "metadata": {},
     "output_type": "execute_result"
    }
   ],
   "source": [
    "results = []\n",
    "for i in range(1, 5):\n",
    "    for s in range(4, 10):\n",
    "        clf = KNN(X_train, y_train, k=s ,p=i)\n",
    "        score = clf.score(X_test, y_test)\n",
    "        results.append((i, s, score))\n",
    "\n",
    "results\n"
   ]
  },
  {
   "cell_type": "markdown",
   "id": "c9b85899",
   "metadata": {},
   "source": [
    "## 基于scikit-learn库的实现"
   ]
  },
  {
   "cell_type": "code",
   "execution_count": 108,
   "id": "48d40d70",
   "metadata": {},
   "outputs": [],
   "source": [
    "from sklearn.neighbors import KNeighborsClassifier"
   ]
  },
  {
   "cell_type": "code",
   "execution_count": 109,
   "id": "7866c723",
   "metadata": {},
   "outputs": [
    {
     "data": {
      "text/plain": [
       "KNeighborsClassifier(algorithm='auto', leaf_size=30, metric='minkowski',\n",
       "           metric_params=None, n_jobs=1, n_neighbors=5, p=2,\n",
       "           weights='uniform')"
      ]
     },
     "execution_count": 109,
     "metadata": {},
     "output_type": "execute_result"
    }
   ],
   "source": [
    "\n",
    "clf_sk = KNeighborsClassifier()\n",
    "clf_sk.fit(X_train, y_train)"
   ]
  },
  {
   "cell_type": "code",
   "execution_count": 110,
   "id": "d59c95d4",
   "metadata": {},
   "outputs": [
    {
     "data": {
      "text/plain": [
       "0.9666666666666667"
      ]
     },
     "execution_count": 110,
     "metadata": {},
     "output_type": "execute_result"
    }
   ],
   "source": [
    "clf_sk.score(X_test, y_test)"
   ]
  },
  {
   "cell_type": "markdown",
   "id": "bad94866",
   "metadata": {},
   "source": [
    "## 构造KD树"
   ]
  },
  {
   "cell_type": "code",
   "execution_count": 111,
   "id": "1a40974e",
   "metadata": {},
   "outputs": [],
   "source": [
    "class KdNode(object):\n",
    "    def __init__(self, real_node, split_dim, left, right):\n",
    "        self.node = real_node  # k维向量实际点作为节点\n",
    "        self.split_dim = split_dim  # 按照split_dim : int这个维度切割\n",
    "        self.left = left  # 节点左侧，split_dim维度上值小于dot\n",
    "        self.right = right  # 反之\n",
    "\n",
    "class KdTree(object):\n",
    "    def __init__(self, data):\n",
    "        k = len(data[0])  # 数据的维度\n",
    "\n",
    "        def CreateNode(split_dim, data_set):  # 按第split_dim维划分数据集创建KdNode\n",
    "            if not data_set:  \n",
    "                return None\n",
    "            \n",
    "            data_set.sort(key=lambda x: x[split_dim])\n",
    "            \n",
    "            median = data_set[len(data_set) // 2]  # 中位数分割点\n",
    "            split_next = (split_dim + 1) % k  # 指定下一个分割维度的规则（模型确定）\n",
    "\n",
    "            # 递归的创建左右子树，形成完整的KD树\n",
    "            return KdNode(\n",
    "                median,\n",
    "                split_dim,\n",
    "                CreateNode(split_next, data_set[:len(data_set) // 2]),  \n",
    "                CreateNode(split_next, data_set[len(data_set) // 2 + 1:]))  \n",
    "\n",
    "        self.root = CreateNode(0, data)  # 从第0维分量开始构建kd树,返回值为根节点\n",
    "        \n",
    "def preorder(root):     #遍历kd树\n",
    "    print(root.node)\n",
    "    if root.left:  \n",
    "        preorder(root.left)\n",
    "    if root.right:\n",
    "        preorder(root.right)\n"
   ]
  },
  {
   "cell_type": "code",
   "execution_count": null,
   "id": "832dc10c",
   "metadata": {},
   "outputs": [],
   "source": []
  },
  {
   "cell_type": "markdown",
   "id": "337b4f5d",
   "metadata": {},
   "source": [
    "## KD树搜索"
   ]
  },
  {
   "cell_type": "code",
   "execution_count": 112,
   "id": "7cbc3c15",
   "metadata": {},
   "outputs": [],
   "source": [
    "from math import sqrt\n",
    "from collections import namedtuple\n",
    "\n",
    "# 定义一个namedtuple,分别存放最近坐标点、最近距离和访问过的节点数\n",
    "result = namedtuple(\"Result_tuple\",\n",
    "                    \"nearest_point  nearest_dist  nodes_visited\")\n",
    "\n",
    "\n",
    "def find_nearest(tree, point):\n",
    "    k = len(point)  # 数据维度\n",
    "\n",
    "    def travel(kd_node, target, max_dist):     #max_dist最大搜索半径\n",
    "        if kd_node is None:\n",
    "            return result([0] * k, float(\"inf\"),\n",
    "                          0)  # python中用float(\"inf\")和float(\"-inf\")表示正负无穷\n",
    "\n",
    "        nodes_visited = 1\n",
    "\n",
    "        s = kd_node.split_dim  # 进行分割的维度\n",
    "        pivot_node = kd_node.node  # 分割的实值节点（分割的超平面）\n",
    "\n",
    "        if target[s] <= pivot_node[s]:  # 如果目标点第s维小于分割轴的对应值(目标离左子树更近)\n",
    "            nearer_node = kd_node.left  # 下一个访问节点为左子树根节点\n",
    "            further_node = kd_node.right  # 同时记录下较远的右子树\n",
    "        else:  # 目标离右子树更近\n",
    "            nearer_node = kd_node.right  # 下一个访问节点为右子树根节点\n",
    "            further_node = kd_node.left\n",
    "\n",
    "        temp1 = travel(nearer_node, target, max_dist)  # 进行遍历找到包含目标点的区域，先找到目标点存在的最深的节点\n",
    "\n",
    "        nearest = temp1.nearest_point  # 以此最深的叶结点作为“当前最近点”，然后不断回溯（最大搜索半径判断是否需要剪枝），看最近距离是否需要更新\n",
    "        dist = temp1.nearest_dist  # 更新最近距离\n",
    "\n",
    "        nodes_visited += temp1.nodes_visited      #记录回溯的节点个数，按道理是少于逐个遍历的\n",
    "\n",
    "        if dist < max_dist:     #更新的最近距离dist是否在最大搜索半径内\n",
    "            max_dist = dist  # 如果在，最近点将在以目标点为球心，最大搜索半径max_dist（已更新）为半径的超球体内\n",
    "\n",
    "        temp_dist = abs(pivot_node[s] - target[s])  # 第s维上目标点与分割超平面的距离\n",
    "        if max_dist < temp_dist:  # 判断超球体是否与超平面相交\n",
    "            return result(nearest, dist, nodes_visited)  # 不相交则可以剪枝，没有必要继续算远一点的平行节点空间内的距离，保持最大搜索半径（肯定小于与超平面的距离，也必然小于真实的p2范数距离）\n",
    "\n",
    "      \n",
    "        # 不可剪枝则计算目标点与分割点的欧氏距离\n",
    "        temp_dist = sqrt(sum((p1 - p2)**2 for p1, p2 in zip(pivot_node, target)))\n",
    "\n",
    "        if temp_dist < dist:  # 如果距离比最大搜索半径“更近”\n",
    "            nearest = pivot_node  #则更新最大搜索半径和当前最近距离\n",
    "            dist = temp_dist  \n",
    "            max_dist = dist  \n",
    "\n",
    "        # 检查另一个子结点对应的区域是否有更近的点\n",
    "        temp2 = travel(further_node, target, max_dist)\n",
    "\n",
    "        nodes_visited += temp2.nodes_visited\n",
    "        if temp2.nearest_dist < dist:  # 如果另一个子结点内存在更近距离\n",
    "            nearest = temp2.nearest_point  # 更新最近点\n",
    "            dist = temp2.nearest_dist  # 更新最近距离\n",
    "\n",
    "        return result(nearest, dist, nodes_visited)\n",
    "\n",
    "    return travel(tree.root, point, float(\"inf\"))  # 从根节点开始递归"
   ]
  },
  {
   "cell_type": "markdown",
   "id": "92479433",
   "metadata": {},
   "source": [
    "### 另一种实现"
   ]
  },
  {
   "cell_type": "code",
   "execution_count": 113,
   "id": "2cd9e2bf",
   "metadata": {},
   "outputs": [],
   "source": [
    "# 构建kd树，搜索待预测点所属区域\n",
    "from collections import namedtuple\n",
    "import numpy as np\n",
    "\n",
    "\n",
    "# 建立节点类\n",
    "class Node(namedtuple(\"Node\", \"location left_child right_child\")):\n",
    "    def __repr__(self):\n",
    "        return str(tuple(self))\n",
    "\n",
    "\n",
    "# kd tree类\n",
    "class KdTree():\n",
    "    def __init__(self, k=1):\n",
    "        self.k = k\n",
    "        self.kdtree = None\n",
    "\n",
    "    # 构建kd tree\n",
    "    def _fit(self, X, depth=0):\n",
    "        try:\n",
    "            k = self.k\n",
    "        except IndexError as e:\n",
    "            return None\n",
    "        # 这里可以展开，通过方差选择axis\n",
    "        axis = depth % k\n",
    "        X = X[X[:, axis].argsort()]\n",
    "        median = X.shape[0] // 2\n",
    "        try:\n",
    "            X[median]\n",
    "        except IndexError:\n",
    "            return None\n",
    "        return Node(location=X[median],\n",
    "                    left_child=self._fit(X[:median], depth + 1),\n",
    "                    right_child=self._fit(X[median + 1:], depth + 1))\n",
    "\n",
    "    def _search(self, point, tree=None, depth=0, best=None):\n",
    "        if tree is None:\n",
    "            return best\n",
    "        k = self.k\n",
    "        # 更新 branch\n",
    "        if point[0][depth % k] < tree.location[depth % k]:\n",
    "            next_branch = tree.left_child\n",
    "        else:\n",
    "            next_branch = tree.right_child\n",
    "        if not next_branch is None:\n",
    "            best = next_branch.location\n",
    "        return self._search(point,\n",
    "                            tree=next_branch,\n",
    "                            depth=depth + 1,\n",
    "                            best=best)\n",
    "\n",
    "    def fit(self, X):\n",
    "        self.kdtree = self._fit(X)\n",
    "        return self.kdtree\n",
    "\n",
    "    def predict(self, X):\n",
    "        res = self._search(X, self.kdtree)\n",
    "        return res"
   ]
  },
  {
   "cell_type": "code",
   "execution_count": 114,
   "id": "e53f3645",
   "metadata": {},
   "outputs": [
    {
     "name": "stdout",
     "output_type": "stream",
     "text": [
      "x点的最近邻点是(2, 3)\n"
     ]
    }
   ],
   "source": [
    "KNN = KdTree()\n",
    "X_train = np.array([[2, 3], [5, 4], [9, 6], [4, 7], [8, 1], [7, 2]])\n",
    "KNN.fit(X_train)\n",
    "X_new = np.array([[3, 4.5]])\n",
    "res = KNN.predict(X_new)\n",
    "\n",
    "x1 = res[0]\n",
    "x2 = res[1]\n",
    "\n",
    "print(\"x点的最近邻点是({0}, {1})\".format(x1, x2))"
   ]
  }
 ],
 "metadata": {
  "kernelspec": {
   "display_name": "base",
   "language": "python",
   "name": "python3"
  },
  "language_info": {
   "codemirror_mode": {
    "name": "ipython",
    "version": 3
   },
   "file_extension": ".py",
   "mimetype": "text/x-python",
   "name": "python",
   "nbconvert_exporter": "python",
   "pygments_lexer": "ipython3",
   "version": "3.13.5"
  }
 },
 "nbformat": 4,
 "nbformat_minor": 5
}
